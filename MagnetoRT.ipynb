{
 "metadata": {
  "language_info": {
   "codemirror_mode": {
    "name": "ipython",
    "version": 3
   },
   "file_extension": ".py",
   "mimetype": "text/x-python",
   "name": "python",
   "nbconvert_exporter": "python",
   "pygments_lexer": "ipython3",
   "version": "3.8.6"
  },
  "orig_nbformat": 4,
  "kernelspec": {
   "name": "python3",
   "display_name": "Python 3.8.6 64-bit"
  },
  "interpreter": {
   "hash": "1a8b33176e3f52577d5a581500cd8263ba63ae203cd7d1f20c48c98d50742012"
  }
 },
 "nbformat": 4,
 "nbformat_minor": 2,
 "cells": [
  {
   "source": [
    "# General Analysis - Magnetic Rayleigh-Taylor Instability\n",
    "\n",
    "### Toward a full analysis of MRT instability (This includes Hall Effects) - Simple Plasma class for caclualting the relevant parameters\n",
    "\n",
    "\n",
    "'J.D. Huba, Rayleigh-Taylor Instability: Comparison of Hybrid and Nonideal MHD simulation, 1998'\n",
    "\n",
    "'R. K. Bera, Yang Song, The effect of viscosity and resistivity on Rayleigh-Taylor instability induced mixing in magnetised HEDP, 2021'\n",
    "\n",
    "'F.R.S. Taylor, The instability of liquid surfaces when accelerated in a direction perpendicular to their planes, 1949'"
   ],
   "cell_type": "markdown",
   "metadata": {}
  },
  {
   "cell_type": "code",
   "execution_count": null,
   "metadata": {},
   "outputs": [],
   "source": [
    "# Libraries\n",
    "\n",
    "import numpy as np\n",
    "import matplotlib.pyplot as plt\n",
    "import scipy.constants as cons\n",
    "import matplotlib.gridspec as gridspec\n",
    "\n",
    "from scipy.interpolate import CubicSpline\n",
    "\n",
    "\n",
    "\n",
    "# Function to return ZTe relation from ionisation state tables\n",
    "\n",
    "def generate_ZTe_table(A,source):\n",
    "    if A == 27:\n",
    "        if source == 'FLY':\n",
    "            T_e, Z =  np.genfromtxt('Al_Z_1e18.txt', delimiter = '  ', usecols = [0,1], unpack = True)\n",
    "        else:\n",
    "            T_e, Z =  np.genfromtxt('zb_Al.dat', delimiter=' ', skip_header=2, usecols = [0,3], unpack = True)\n",
    "        \n",
    "        Z_mod = CubicSpline(T_e, Z)\n",
    "        return Z_mod\n",
    "\n",
    "    if A == 64:\n",
    "        if source == 'FLY':\n",
    "            T_e, Z = np.genfromtxt('Cu_Z_1e18.txt', delimiter='  ', usecols = [0,1], unpack = True)\n",
    "        else:\n",
    "            T_e, Z = np.genfromtxt('zb_Cu.dat', delimiter='     ', skip_header=2, usecols = [0,2], unpack = True)\n",
    "        \n",
    "        Z_mod = CubicSpline(T_e, Z)\n",
    "        return Z_mod\n",
    "\n",
    "    if A == 108:\n",
    "        if source == 'FLY':\n",
    "            T_e, Z = np.genfromtxt('Ag_Z_1e18.txt', delimiter='  ', usecols = [0,1],unpack = True)\n",
    "        else:\n",
    "            print(\"No data available for A:\",A)\n",
    "        \n",
    "        Z_mod = CubicSpline(T_e, Z)\n",
    "        return Z_mod\n",
    "\n",
    "    if A == 183:\n",
    "        if source == 'FLY':\n",
    "            T_e, Z = np.genfromtxt('W_Z_1e18.txt', delimiter='  ', usecols = [0,1],unpack = True)\n",
    "        else:\n",
    "            T_e, Z = np.genfromtxt('zb_W.dat', delimiter=' ', usecols = [0,1],unpack = True)\n",
    "\n",
    "        Z_mod = CubicSpline(T_e, Z)\n",
    "        return Z_mod\n",
    "    else:\n",
    "        print(\"No data available for A:\", A)"
   ]
  }
 ]
}